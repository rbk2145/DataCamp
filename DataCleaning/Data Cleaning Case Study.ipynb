{
 "cells": [
  {
   "cell_type": "markdown",
   "metadata": {},
   "source": [
    "\n",
    "Since 1800, life expectancy around the globe has been steadily going up. You would expect the Gapminder data to confirm this.\n",
    "\n",
    "The DataFrame g1800s has been pre-loaded. Your job in this exercise is to create a scatter plot with life expectancy in '1800'\n",
    "on the x-axis and life expectancy in '1899' on the y-axis.\n",
    "\n",
    "Here, the goal is to visually check the data for insights as well as errors. When looking at the plot, pay attention to whether\n",
    "the scatter plot takes the form of a diagonal line, and which points fall below or above the diagonal line. This will inform how\n",
    "life expectancy in 1899 changed (or did not change) compared to 1800 for different countries. If points fall on a diagonal line,\n",
    "it means that life expectancy remained the same!\n"
   ]
  },
  {
   "cell_type": "code",
   "execution_count": 2,
   "metadata": {},
   "outputs": [
    {
     "name": "stdout",
     "output_type": "stream",
     "text": [
      "   S.no   1800   1801   1802   1803   1804   1805   1806   1807   1808  \\\n",
      "0     0    NaN    NaN    NaN    NaN    NaN    NaN    NaN    NaN    NaN   \n",
      "1     1  28.21  28.20  28.19  28.18  28.17  28.16  28.15  28.14  28.13   \n",
      "2     2    NaN    NaN    NaN    NaN    NaN    NaN    NaN    NaN    NaN   \n",
      "3     3  35.40  35.40  35.40  35.40  35.40  35.40  35.40  35.40  35.40   \n",
      "4     4  28.82  28.82  28.82  28.82  28.82  28.82  28.82  28.82  28.82   \n",
      "\n",
      "           ...            2008  2009  2010  2011  2012  2013  2014  2015  \\\n",
      "0          ...             NaN   NaN   NaN   NaN   NaN   NaN   NaN   NaN   \n",
      "1          ...             NaN   NaN   NaN   NaN   NaN   NaN   NaN   NaN   \n",
      "2          ...             NaN   NaN   NaN   NaN   NaN   NaN   NaN   NaN   \n",
      "3          ...             NaN   NaN   NaN   NaN   NaN   NaN   NaN   NaN   \n",
      "4          ...             NaN   NaN   NaN   NaN   NaN   NaN   NaN   NaN   \n",
      "\n",
      "   2016        Life expectancy  \n",
      "0   NaN               Abkhazia  \n",
      "1   NaN            Afghanistan  \n",
      "2   NaN  Akrotiri and Dhekelia  \n",
      "3   NaN                Albania  \n",
      "4   NaN                Algeria  \n",
      "\n",
      "[5 rows x 219 columns]\n"
     ]
    }
   ],
   "source": [
    "#read csv file\n",
    "import pandas as pd\n",
    "df = pd.read_csv(\"gapminder.csv\")\n",
    "print(df.head())\n"
   ]
  },
  {
   "cell_type": "markdown",
   "metadata": {},
   "source": [
    "## Visualizing data"
   ]
  },
  {
   "cell_type": "code",
   "execution_count": 65,
   "metadata": {},
   "outputs": [
    {
     "data": {
      "image/png": "[encoded data removed]",
      "text/plain": [
       "<matplotlib.figure.Figure at 0x236f365d048>"
      ]
     },
     "metadata": {},
     "output_type": "display_data"
    }
   ],
   "source": [
    "#import matplotlib.pyplot\n",
    "import matplotlib.pyplot as plt \n",
    "\n",
    "#create the scatter plot \n",
    "df.plot(kind=\"scatter\",x=\"1800\",y=\"1899\")\n",
    "\n",
    "#specify axis labels\n",
    "plt.xlabel(\"life expentancy in 1800\")\n",
    "plt.ylabel(\"life expentancy in 1899\")\n",
    "\n",
    "#specify axis limits \n",
    "plt.xlim(20,55)\n",
    "plt.xlim(20,55)\n",
    "\n",
    "#display the plot\n",
    "plt.show()"
   ]
  },
  {
   "cell_type": "code",
   "execution_count": 64,
   "metadata": {},
   "outputs": [
    {
     "name": "stdout",
     "output_type": "stream",
     "text": [
      "True\n",
      "True\n",
      "False\n"
     ]
    }
   ],
   "source": [
    "#checking null values \n",
    "\n",
    "def check_null_or_valid(row_data):\n",
    "    \"\"\"Function that takes a row of data,\n",
    "    Drops all missing values,\n",
    "    and checks if all remaining\n",
    "    values are greater than or equal to 0\"\"\"\n",
    "    no_na = row_data.dropna()[1:-1]\n",
    "    numeric = pd.to_numeric(no_na)\n",
    "    ge0 = numeric >=0\n",
    "    return ge0\n",
    "\n",
    "#check whether the first column is \"life expectancy\"\n",
    "print(df.columns[-1] == \"Life expectancy\")\n",
    "\n",
    "#check whether the values in the row are valid\n",
    "print(df.iloc[:,1:].apply(check_null_or_valid, axis=1).all().all())\n",
    "\n",
    "#check that there is only one instance of each country\n",
    "print(df[\"Life expectancy\"].value_counts()[-1]==1)\n",
    "    "
   ]
  },
  {
   "cell_type": "code",
   "execution_count": 45,
   "metadata": {},
   "outputs": [
    {
     "name": "stdout",
     "output_type": "stream",
     "text": [
      "<class 'pandas.core.frame.DataFrame'>\n",
      "RangeIndex: 780 entries, 0 to 779\n",
      "Columns: 218 entries, 1800 to Life expectancy\n",
      "dtypes: float64(217), object(1)\n",
      "memory usage: 1.3+ MB\n"
     ]
    }
   ],
   "source": [
    "# deleting worng data using drop\n",
    "df=df.drop([\"S.no\"], axis=1)\n",
    "\n",
    "df.info()"
   ]
  },
  {
   "cell_type": "markdown",
   "metadata": {},
   "source": [
    "## reshapeing data\n",
    "Now that you have all the data combined into a single DataFrame, the next step is to reshape it into a tidy data format.\n",
    "\n",
    "Currently, the gapminder DataFrame has a separate column for each year. What you want instead is a single column that contains \n",
    "the year, and a single column that represents the average life expectancy for each year and country. By having year in its own \n",
    "column, you can use it as a predictor variable in a later analysis.\n",
    "\n",
    "You can convert the DataFrame into the desired tidy format by melting it.\n",
    "\n"
   ]
  },
  {
   "cell_type": "code",
   "execution_count": 46,
   "metadata": {},
   "outputs": [
    {
     "name": "stdout",
     "output_type": "stream",
     "text": [
      "                 country  year  life_expectancy\n",
      "0               Abkhazia  1800              NaN\n",
      "1            Afghanistan  1800            28.21\n",
      "2  Akrotiri and Dhekelia  1800              NaN\n",
      "3                Albania  1800            35.40\n",
      "4                Algeria  1800            28.82\n"
     ]
    }
   ],
   "source": [
    "#melt of data\n",
    "df_melt = pd.melt(df, id_vars=\"Life expectancy\")\n",
    "\n",
    "#rename the columns\n",
    "df_melt.columns = [\"country\", \"year\", \"life_expectancy\"]\n",
    "\n",
    "#print head \n",
    "print(df_melt.head())"
   ]
  },
  {
   "cell_type": "code",
   "execution_count": 47,
   "metadata": {},
   "outputs": [
    {
     "name": "stdout",
     "output_type": "stream",
     "text": [
      "            country  year  life_expectancy\n",
      "169255   Yugoslavia  2016              NaN\n",
      "169256       Zambia  2016            57.10\n",
      "169257     Zimbabwe  2016            61.69\n",
      "169258        Åland  2016              NaN\n",
      "169259  South Sudan  2016            56.10\n"
     ]
    }
   ],
   "source": [
    "print(df_melt.tail())"
   ]
  },
  {
   "cell_type": "markdown",
   "metadata": {},
   "source": [
    "# Checking dataframe"
   ]
  },
  {
   "cell_type": "code",
   "execution_count": 48,
   "metadata": {},
   "outputs": [
    {
     "name": "stdout",
     "output_type": "stream",
     "text": [
      "<class 'pandas.core.frame.DataFrame'>\n",
      "RangeIndex: 780 entries, 0 to 779\n",
      "Columns: 218 entries, 1800 to Life expectancy\n",
      "dtypes: float64(217), object(1)\n",
      "memory usage: 1.3+ MB\n"
     ]
    }
   ],
   "source": [
    "df.info()"
   ]
  },
  {
   "cell_type": "code",
   "execution_count": 49,
   "metadata": {},
   "outputs": [],
   "source": [
    "# convert the year column to numeric \n",
    "df_melt.year= pd.to_numeric(df_melt.year)"
   ]
  },
  {
   "cell_type": "markdown",
   "metadata": {},
   "source": [
    "# Looking at country Spellings"
   ]
  },
  {
   "cell_type": "markdown",
   "metadata": {},
   "source": [
    "Having tidied your DataFrame and checked the data types, your next task in the data cleaning process is to look at the 'country'\n",
    "column to see if there are any special or invalid characters you may need to deal with.\n",
    "\n",
    "It is reasonable to assume that country names will contain:\n",
    "\n",
    "The set of lower and upper case letters.\n",
    "Whitespace between words.\n",
    "Periods for any abbreviations.\n",
    "To confirm that this is the case, you can leverage the power of regular expressions again. For common operations like this, \n",
    "Python has a built-in string method - str.contains() - which takes a regular expression pattern, and applies it to the Series, \n",
    "returning True if there is a match, and False otherwise.\n",
    "\n",
    "Since here you want to find the values that do not match, you have to invert the boolean, which can be done using ~. \n",
    "This Boolean series can then be used to get the Series of countries that have invalid names.\n",
    "\n"
   ]
  },
  {
   "cell_type": "code",
   "execution_count": 50,
   "metadata": {},
   "outputs": [
    {
     "data": {
      "text/plain": [
       "0                         Abkhazia\n",
       "1                      Afghanistan\n",
       "2            Akrotiri and Dhekelia\n",
       "3                          Albania\n",
       "4                          Algeria\n",
       "5                   American Samoa\n",
       "6                          Andorra\n",
       "7                           Angola\n",
       "8                         Anguilla\n",
       "9              Antigua and Barbuda\n",
       "10                       Argentina\n",
       "11                         Armenia\n",
       "12                           Aruba\n",
       "13                       Australia\n",
       "14                         Austria\n",
       "15                      Azerbaijan\n",
       "16                         Bahamas\n",
       "17                         Bahrain\n",
       "18                      Bangladesh\n",
       "19                        Barbados\n",
       "20                         Belarus\n",
       "21                         Belgium\n",
       "22                          Belize\n",
       "23                           Benin\n",
       "24                         Bermuda\n",
       "25                          Bhutan\n",
       "26                         Bolivia\n",
       "27          Bosnia and Herzegovina\n",
       "28                        Botswana\n",
       "29                          Brazil\n",
       "                    ...           \n",
       "169230         Trinidad and Tobago\n",
       "169231                     Tunisia\n",
       "169232                      Turkey\n",
       "169233                Turkmenistan\n",
       "169234    Turks and Caicos Islands\n",
       "169235                      Tuvalu\n",
       "169236                      Uganda\n",
       "169237                     Ukraine\n",
       "169238        United Arab Emirates\n",
       "169239              United Kingdom\n",
       "169240               United States\n",
       "169241                     Uruguay\n",
       "169242                        USSR\n",
       "169243                  Uzbekistan\n",
       "169244            Wallis et Futuna\n",
       "169245                     Vanuatu\n",
       "169246                   Venezuela\n",
       "169247          West Bank and Gaza\n",
       "169248                West Germany\n",
       "169249              Western Sahara\n",
       "169250                     Vietnam\n",
       "169251       Virgin Islands (U.S.)\n",
       "169252        North Yemen (former)\n",
       "169253        South Yemen (former)\n",
       "169254                       Yemen\n",
       "169255                  Yugoslavia\n",
       "169256                      Zambia\n",
       "169257                    Zimbabwe\n",
       "169258                       Åland\n",
       "169259                 South Sudan\n",
       "Name: country, Length: 169260, dtype: object"
      ]
     },
     "execution_count": 50,
     "metadata": {},
     "output_type": "execute_result"
    }
   ],
   "source": [
    "#creating the series of countries \n",
    "countries = df_melt[\"country\"]\n",
    "countries"
   ]
  },
  {
   "cell_type": "code",
   "execution_count": 51,
   "metadata": {},
   "outputs": [
    {
     "data": {
      "text/plain": [
       "0                      Abkhazia\n",
       "1                   Afghanistan\n",
       "2         Akrotiri and Dhekelia\n",
       "3                       Albania\n",
       "4                       Algeria\n",
       "5                American Samoa\n",
       "6                       Andorra\n",
       "7                        Angola\n",
       "8                      Anguilla\n",
       "9           Antigua and Barbuda\n",
       "10                    Argentina\n",
       "11                      Armenia\n",
       "12                        Aruba\n",
       "13                    Australia\n",
       "14                      Austria\n",
       "15                   Azerbaijan\n",
       "16                      Bahamas\n",
       "17                      Bahrain\n",
       "18                   Bangladesh\n",
       "19                     Barbados\n",
       "20                      Belarus\n",
       "21                      Belgium\n",
       "22                       Belize\n",
       "23                        Benin\n",
       "24                      Bermuda\n",
       "25                       Bhutan\n",
       "26                      Bolivia\n",
       "27       Bosnia and Herzegovina\n",
       "28                     Botswana\n",
       "29                       Brazil\n",
       "                 ...           \n",
       "230         Trinidad and Tobago\n",
       "231                     Tunisia\n",
       "232                      Turkey\n",
       "233                Turkmenistan\n",
       "234    Turks and Caicos Islands\n",
       "235                      Tuvalu\n",
       "236                      Uganda\n",
       "237                     Ukraine\n",
       "238        United Arab Emirates\n",
       "239              United Kingdom\n",
       "240               United States\n",
       "241                     Uruguay\n",
       "242                        USSR\n",
       "243                  Uzbekistan\n",
       "244            Wallis et Futuna\n",
       "245                     Vanuatu\n",
       "246                   Venezuela\n",
       "247          West Bank and Gaza\n",
       "248                West Germany\n",
       "249              Western Sahara\n",
       "250                     Vietnam\n",
       "251       Virgin Islands (U.S.)\n",
       "252        North Yemen (former)\n",
       "253        South Yemen (former)\n",
       "254                       Yemen\n",
       "255                  Yugoslavia\n",
       "256                      Zambia\n",
       "257                    Zimbabwe\n",
       "258                       Åland\n",
       "259                 South Sudan\n",
       "Name: country, Length: 260, dtype: object"
      ]
     },
     "execution_count": 51,
     "metadata": {},
     "output_type": "execute_result"
    }
   ],
   "source": [
    "#drop all duplicaptes from countries\n",
    "countries = countries.drop_duplicates()\n",
    "countries"
   ]
  },
  {
   "cell_type": "code",
   "execution_count": 52,
   "metadata": {},
   "outputs": [],
   "source": [
    "#regular expression: pattern\n",
    "pattern = '^[A-Za-z\\.\\s]*$'"
   ]
  },
  {
   "cell_type": "code",
   "execution_count": 53,
   "metadata": {},
   "outputs": [
    {
     "name": "stdout",
     "output_type": "stream",
     "text": [
      "0       True\n",
      "1       True\n",
      "2       True\n",
      "3       True\n",
      "4       True\n",
      "5       True\n",
      "6       True\n",
      "7       True\n",
      "8       True\n",
      "9       True\n",
      "10      True\n",
      "11      True\n",
      "12      True\n",
      "13      True\n",
      "14      True\n",
      "15      True\n",
      "16      True\n",
      "17      True\n",
      "18      True\n",
      "19      True\n",
      "20      True\n",
      "21      True\n",
      "22      True\n",
      "23      True\n",
      "24      True\n",
      "25      True\n",
      "26      True\n",
      "27      True\n",
      "28      True\n",
      "29      True\n",
      "       ...  \n",
      "230     True\n",
      "231     True\n",
      "232     True\n",
      "233     True\n",
      "234     True\n",
      "235     True\n",
      "236     True\n",
      "237     True\n",
      "238     True\n",
      "239     True\n",
      "240     True\n",
      "241     True\n",
      "242     True\n",
      "243     True\n",
      "244     True\n",
      "245     True\n",
      "246     True\n",
      "247     True\n",
      "248     True\n",
      "249     True\n",
      "250     True\n",
      "251    False\n",
      "252    False\n",
      "253    False\n",
      "254     True\n",
      "255     True\n",
      "256     True\n",
      "257     True\n",
      "258    False\n",
      "259     True\n",
      "Name: country, Length: 260, dtype: bool\n"
     ]
    }
   ],
   "source": [
    "#create the boolean vector :mask\n",
    "mask = countries.str.contains(pattern)\n",
    "print(mask)"
   ]
  },
  {
   "cell_type": "code",
   "execution_count": 54,
   "metadata": {},
   "outputs": [
    {
     "name": "stdout",
     "output_type": "stream",
     "text": [
      "0      False\n",
      "1      False\n",
      "2      False\n",
      "3      False\n",
      "4      False\n",
      "5      False\n",
      "6      False\n",
      "7      False\n",
      "8      False\n",
      "9      False\n",
      "10     False\n",
      "11     False\n",
      "12     False\n",
      "13     False\n",
      "14     False\n",
      "15     False\n",
      "16     False\n",
      "17     False\n",
      "18     False\n",
      "19     False\n",
      "20     False\n",
      "21     False\n",
      "22     False\n",
      "23     False\n",
      "24     False\n",
      "25     False\n",
      "26     False\n",
      "27     False\n",
      "28     False\n",
      "29     False\n",
      "       ...  \n",
      "230    False\n",
      "231    False\n",
      "232    False\n",
      "233    False\n",
      "234    False\n",
      "235    False\n",
      "236    False\n",
      "237    False\n",
      "238    False\n",
      "239    False\n",
      "240    False\n",
      "241    False\n",
      "242    False\n",
      "243    False\n",
      "244    False\n",
      "245    False\n",
      "246    False\n",
      "247    False\n",
      "248    False\n",
      "249    False\n",
      "250    False\n",
      "251     True\n",
      "252     True\n",
      "253     True\n",
      "254    False\n",
      "255    False\n",
      "256    False\n",
      "257    False\n",
      "258     True\n",
      "259    False\n",
      "Name: country, Length: 260, dtype: bool\n"
     ]
    }
   ],
   "source": [
    "#invert the mark : mask_inverse\n",
    "mask_inverse = ~mask\n",
    "print(mask_inverse)"
   ]
  },
  {
   "cell_type": "code",
   "execution_count": 35,
   "metadata": {},
   "outputs": [],
   "source": [
    "#subset countries using mask_inverse :invalid countries\n",
    "invalid_countries = countries.loc[mask_inverse]"
   ]
  },
  {
   "cell_type": "code",
   "execution_count": 36,
   "metadata": {},
   "outputs": [
    {
     "name": "stdout",
     "output_type": "stream",
     "text": [
      "49            Congo, Dem. Rep.\n",
      "50                 Congo, Rep.\n",
      "53               Cote d'Ivoire\n",
      "73      Falkland Is (Malvinas)\n",
      "93               Guinea-Bissau\n",
      "98            Hong Kong, China\n",
      "118    United Korea (former)\\n\n",
      "131               Macao, China\n",
      "132             Macedonia, FYR\n",
      "145      Micronesia, Fed. Sts.\n",
      "161            Ngorno-Karabakh\n",
      "187             St. Barthélemy\n",
      "193     St.-Pierre-et-Miquelon\n",
      "225                Timor-Leste\n",
      "251      Virgin Islands (U.S.)\n",
      "252       North Yemen (former)\n",
      "253       South Yemen (former)\n",
      "258                      Åland\n",
      "Name: country, dtype: object\n"
     ]
    }
   ],
   "source": [
    "print(invalid_countries)"
   ]
  },
  {
   "cell_type": "markdown",
   "metadata": {},
   "source": [
    "# More data cleaning and processing\n"
   ]
  },
  {
   "cell_type": "markdown",
   "metadata": {},
   "source": [
    "It's now time to deal with the missing data. There are several strategies for this: You can drop them, fill them in using the mean of the column or row that the missing value is in (also known as imputation), or, if you are dealing with time series data, use a forward fill or backward fill, in which you replace missing values in a column with the most recent known value in the column. See pandas Foundations for more on forward fill and backward fill.\n",
    "\n",
    "In general, it is not the best idea to drop missing values, because in doing so you may end up throwing away useful information. In this data, the missing values refer to years where no estimate for life expectancy is available for a given country. You \n",
    "could fill in, or guess what these life expectancies could be by looking at the average life expectancies for other countries in that year, for example. Whichever strategy you go with, it is important to carefully consider all options and understand how they will affect your data.\n",
    "\n",
    "In this exercise, you'll practice dropping missing values. Your job is to drop all the rows that have NaN in the life_expectancy column. Before doing so, it would be valuable to use assert statements to confirm that year and country do not have any missing values.\n",
    "\n",
    "Begin by printing the shape of gapminder in the IPython Shell prior to dropping the missing values. Complete the exercise to find out what its shape will be after dropping the missing values!"
   ]
  },
  {
   "cell_type": "code",
   "execution_count": 56,
   "metadata": {},
   "outputs": [
    {
     "name": "stdout",
     "output_type": "stream",
     "text": [
      "True\n"
     ]
    }
   ],
   "source": [
    "print(pd.notnull(df_melt.country).all())"
   ]
  },
  {
   "cell_type": "code",
   "execution_count": 58,
   "metadata": {},
   "outputs": [
    {
     "name": "stdout",
     "output_type": "stream",
     "text": [
      "True\n"
     ]
    }
   ],
   "source": [
    "print(pd.notnull(df_melt.year).all())"
   ]
  },
  {
   "cell_type": "code",
   "execution_count": 59,
   "metadata": {},
   "outputs": [
    {
     "name": "stdout",
     "output_type": "stream",
     "text": [
      "<bound method Series.all of 0         False\n",
      "1          True\n",
      "2         False\n",
      "3          True\n",
      "4          True\n",
      "5         False\n",
      "6         False\n",
      "7          True\n",
      "8         False\n",
      "9          True\n",
      "10         True\n",
      "11         True\n",
      "12         True\n",
      "13         True\n",
      "14         True\n",
      "15         True\n",
      "16         True\n",
      "17         True\n",
      "18         True\n",
      "19         True\n",
      "20         True\n",
      "21         True\n",
      "22         True\n",
      "23         True\n",
      "24        False\n",
      "25         True\n",
      "26         True\n",
      "27         True\n",
      "28         True\n",
      "29         True\n",
      "          ...  \n",
      "169230     True\n",
      "169231     True\n",
      "169232     True\n",
      "169233     True\n",
      "169234    False\n",
      "169235    False\n",
      "169236     True\n",
      "169237     True\n",
      "169238     True\n",
      "169239     True\n",
      "169240     True\n",
      "169241     True\n",
      "169242    False\n",
      "169243     True\n",
      "169244    False\n",
      "169245     True\n",
      "169246     True\n",
      "169247     True\n",
      "169248    False\n",
      "169249     True\n",
      "169250     True\n",
      "169251     True\n",
      "169252    False\n",
      "169253    False\n",
      "169254     True\n",
      "169255    False\n",
      "169256     True\n",
      "169257     True\n",
      "169258    False\n",
      "169259     True\n",
      "Name: life_expectancy, Length: 169260, dtype: bool>\n"
     ]
    }
   ],
   "source": [
    "print(pd.notnull(df_melt.life_expectancy).all)"
   ]
  },
  {
   "cell_type": "code",
   "execution_count": 62,
   "metadata": {},
   "outputs": [
    {
     "data": {
      "text/html": [
       "<div>\n",
       "<style scoped>\n",
       "    .dataframe tbody tr th:only-of-type {\n",
       "        vertical-align: middle;\n",
       "    }\n",
       "\n",
       "    .dataframe tbody tr th {\n",
       "        vertical-align: top;\n",
       "    }\n",
       "\n",
       "    .dataframe thead th {\n",
       "        text-align: right;\n",
       "    }\n",
       "</style>\n",
       "<table border=\"1\" class=\"dataframe\">\n",
       "  <thead>\n",
       "    <tr style=\"text-align: right;\">\n",
       "      <th></th>\n",
       "      <th>country</th>\n",
       "      <th>year</th>\n",
       "      <th>life_expectancy</th>\n",
       "    </tr>\n",
       "  </thead>\n",
       "  <tbody>\n",
       "    <tr>\n",
       "      <th>1</th>\n",
       "      <td>Afghanistan</td>\n",
       "      <td>1800</td>\n",
       "      <td>28.21</td>\n",
       "    </tr>\n",
       "    <tr>\n",
       "      <th>3</th>\n",
       "      <td>Albania</td>\n",
       "      <td>1800</td>\n",
       "      <td>35.40</td>\n",
       "    </tr>\n",
       "    <tr>\n",
       "      <th>4</th>\n",
       "      <td>Algeria</td>\n",
       "      <td>1800</td>\n",
       "      <td>28.82</td>\n",
       "    </tr>\n",
       "    <tr>\n",
       "      <th>7</th>\n",
       "      <td>Angola</td>\n",
       "      <td>1800</td>\n",
       "      <td>26.98</td>\n",
       "    </tr>\n",
       "    <tr>\n",
       "      <th>9</th>\n",
       "      <td>Antigua and Barbuda</td>\n",
       "      <td>1800</td>\n",
       "      <td>33.54</td>\n",
       "    </tr>\n",
       "    <tr>\n",
       "      <th>10</th>\n",
       "      <td>Argentina</td>\n",
       "      <td>1800</td>\n",
       "      <td>33.20</td>\n",
       "    </tr>\n",
       "    <tr>\n",
       "      <th>11</th>\n",
       "      <td>Armenia</td>\n",
       "      <td>1800</td>\n",
       "      <td>34.00</td>\n",
       "    </tr>\n",
       "    <tr>\n",
       "      <th>12</th>\n",
       "      <td>Aruba</td>\n",
       "      <td>1800</td>\n",
       "      <td>34.42</td>\n",
       "    </tr>\n",
       "    <tr>\n",
       "      <th>13</th>\n",
       "      <td>Australia</td>\n",
       "      <td>1800</td>\n",
       "      <td>34.05</td>\n",
       "    </tr>\n",
       "    <tr>\n",
       "      <th>14</th>\n",
       "      <td>Austria</td>\n",
       "      <td>1800</td>\n",
       "      <td>34.40</td>\n",
       "    </tr>\n",
       "    <tr>\n",
       "      <th>15</th>\n",
       "      <td>Azerbaijan</td>\n",
       "      <td>1800</td>\n",
       "      <td>29.17</td>\n",
       "    </tr>\n",
       "    <tr>\n",
       "      <th>16</th>\n",
       "      <td>Bahamas</td>\n",
       "      <td>1800</td>\n",
       "      <td>35.18</td>\n",
       "    </tr>\n",
       "    <tr>\n",
       "      <th>17</th>\n",
       "      <td>Bahrain</td>\n",
       "      <td>1800</td>\n",
       "      <td>30.30</td>\n",
       "    </tr>\n",
       "    <tr>\n",
       "      <th>18</th>\n",
       "      <td>Bangladesh</td>\n",
       "      <td>1800</td>\n",
       "      <td>25.50</td>\n",
       "    </tr>\n",
       "    <tr>\n",
       "      <th>19</th>\n",
       "      <td>Barbados</td>\n",
       "      <td>1800</td>\n",
       "      <td>32.12</td>\n",
       "    </tr>\n",
       "    <tr>\n",
       "      <th>20</th>\n",
       "      <td>Belarus</td>\n",
       "      <td>1800</td>\n",
       "      <td>36.20</td>\n",
       "    </tr>\n",
       "    <tr>\n",
       "      <th>21</th>\n",
       "      <td>Belgium</td>\n",
       "      <td>1800</td>\n",
       "      <td>40.00</td>\n",
       "    </tr>\n",
       "    <tr>\n",
       "      <th>22</th>\n",
       "      <td>Belize</td>\n",
       "      <td>1800</td>\n",
       "      <td>26.50</td>\n",
       "    </tr>\n",
       "    <tr>\n",
       "      <th>23</th>\n",
       "      <td>Benin</td>\n",
       "      <td>1800</td>\n",
       "      <td>31.00</td>\n",
       "    </tr>\n",
       "    <tr>\n",
       "      <th>25</th>\n",
       "      <td>Bhutan</td>\n",
       "      <td>1800</td>\n",
       "      <td>28.80</td>\n",
       "    </tr>\n",
       "    <tr>\n",
       "      <th>26</th>\n",
       "      <td>Bolivia</td>\n",
       "      <td>1800</td>\n",
       "      <td>33.00</td>\n",
       "    </tr>\n",
       "    <tr>\n",
       "      <th>27</th>\n",
       "      <td>Bosnia and Herzegovina</td>\n",
       "      <td>1800</td>\n",
       "      <td>35.10</td>\n",
       "    </tr>\n",
       "    <tr>\n",
       "      <th>28</th>\n",
       "      <td>Botswana</td>\n",
       "      <td>1800</td>\n",
       "      <td>33.60</td>\n",
       "    </tr>\n",
       "    <tr>\n",
       "      <th>29</th>\n",
       "      <td>Brazil</td>\n",
       "      <td>1800</td>\n",
       "      <td>32.00</td>\n",
       "    </tr>\n",
       "    <tr>\n",
       "      <th>31</th>\n",
       "      <td>Brunei</td>\n",
       "      <td>1800</td>\n",
       "      <td>29.20</td>\n",
       "    </tr>\n",
       "    <tr>\n",
       "      <th>32</th>\n",
       "      <td>Bulgaria</td>\n",
       "      <td>1800</td>\n",
       "      <td>35.80</td>\n",
       "    </tr>\n",
       "    <tr>\n",
       "      <th>33</th>\n",
       "      <td>Burkina Faso</td>\n",
       "      <td>1800</td>\n",
       "      <td>29.20</td>\n",
       "    </tr>\n",
       "    <tr>\n",
       "      <th>34</th>\n",
       "      <td>Burundi</td>\n",
       "      <td>1800</td>\n",
       "      <td>31.50</td>\n",
       "    </tr>\n",
       "    <tr>\n",
       "      <th>35</th>\n",
       "      <td>Cambodia</td>\n",
       "      <td>1800</td>\n",
       "      <td>35.00</td>\n",
       "    </tr>\n",
       "    <tr>\n",
       "      <th>36</th>\n",
       "      <td>Cameroon</td>\n",
       "      <td>1800</td>\n",
       "      <td>28.75</td>\n",
       "    </tr>\n",
       "    <tr>\n",
       "      <th>...</th>\n",
       "      <td>...</td>\n",
       "      <td>...</td>\n",
       "      <td>...</td>\n",
       "    </tr>\n",
       "    <tr>\n",
       "      <th>169219</th>\n",
       "      <td>Switzerland</td>\n",
       "      <td>2016</td>\n",
       "      <td>83.10</td>\n",
       "    </tr>\n",
       "    <tr>\n",
       "      <th>169220</th>\n",
       "      <td>Syria</td>\n",
       "      <td>2016</td>\n",
       "      <td>69.21</td>\n",
       "    </tr>\n",
       "    <tr>\n",
       "      <th>169221</th>\n",
       "      <td>Taiwan</td>\n",
       "      <td>2016</td>\n",
       "      <td>79.60</td>\n",
       "    </tr>\n",
       "    <tr>\n",
       "      <th>169222</th>\n",
       "      <td>Tajikistan</td>\n",
       "      <td>2016</td>\n",
       "      <td>72.90</td>\n",
       "    </tr>\n",
       "    <tr>\n",
       "      <th>169223</th>\n",
       "      <td>Tanzania</td>\n",
       "      <td>2016</td>\n",
       "      <td>64.91</td>\n",
       "    </tr>\n",
       "    <tr>\n",
       "      <th>169224</th>\n",
       "      <td>Thailand</td>\n",
       "      <td>2016</td>\n",
       "      <td>74.80</td>\n",
       "    </tr>\n",
       "    <tr>\n",
       "      <th>169225</th>\n",
       "      <td>Timor-Leste</td>\n",
       "      <td>2016</td>\n",
       "      <td>72.50</td>\n",
       "    </tr>\n",
       "    <tr>\n",
       "      <th>169226</th>\n",
       "      <td>Togo</td>\n",
       "      <td>2016</td>\n",
       "      <td>61.90</td>\n",
       "    </tr>\n",
       "    <tr>\n",
       "      <th>169228</th>\n",
       "      <td>Tonga</td>\n",
       "      <td>2016</td>\n",
       "      <td>71.70</td>\n",
       "    </tr>\n",
       "    <tr>\n",
       "      <th>169230</th>\n",
       "      <td>Trinidad and Tobago</td>\n",
       "      <td>2016</td>\n",
       "      <td>72.50</td>\n",
       "    </tr>\n",
       "    <tr>\n",
       "      <th>169231</th>\n",
       "      <td>Tunisia</td>\n",
       "      <td>2016</td>\n",
       "      <td>77.60</td>\n",
       "    </tr>\n",
       "    <tr>\n",
       "      <th>169232</th>\n",
       "      <td>Turkey</td>\n",
       "      <td>2016</td>\n",
       "      <td>79.30</td>\n",
       "    </tr>\n",
       "    <tr>\n",
       "      <th>169233</th>\n",
       "      <td>Turkmenistan</td>\n",
       "      <td>2016</td>\n",
       "      <td>70.40</td>\n",
       "    </tr>\n",
       "    <tr>\n",
       "      <th>169236</th>\n",
       "      <td>Uganda</td>\n",
       "      <td>2016</td>\n",
       "      <td>61.91</td>\n",
       "    </tr>\n",
       "    <tr>\n",
       "      <th>169237</th>\n",
       "      <td>Ukraine</td>\n",
       "      <td>2016</td>\n",
       "      <td>71.70</td>\n",
       "    </tr>\n",
       "    <tr>\n",
       "      <th>169238</th>\n",
       "      <td>United Arab Emirates</td>\n",
       "      <td>2016</td>\n",
       "      <td>75.40</td>\n",
       "    </tr>\n",
       "    <tr>\n",
       "      <th>169239</th>\n",
       "      <td>United Kingdom</td>\n",
       "      <td>2016</td>\n",
       "      <td>81.10</td>\n",
       "    </tr>\n",
       "    <tr>\n",
       "      <th>169240</th>\n",
       "      <td>United States</td>\n",
       "      <td>2016</td>\n",
       "      <td>79.10</td>\n",
       "    </tr>\n",
       "    <tr>\n",
       "      <th>169241</th>\n",
       "      <td>Uruguay</td>\n",
       "      <td>2016</td>\n",
       "      <td>77.00</td>\n",
       "    </tr>\n",
       "    <tr>\n",
       "      <th>169243</th>\n",
       "      <td>Uzbekistan</td>\n",
       "      <td>2016</td>\n",
       "      <td>72.10</td>\n",
       "    </tr>\n",
       "    <tr>\n",
       "      <th>169245</th>\n",
       "      <td>Vanuatu</td>\n",
       "      <td>2016</td>\n",
       "      <td>65.10</td>\n",
       "    </tr>\n",
       "    <tr>\n",
       "      <th>169246</th>\n",
       "      <td>Venezuela</td>\n",
       "      <td>2016</td>\n",
       "      <td>74.80</td>\n",
       "    </tr>\n",
       "    <tr>\n",
       "      <th>169247</th>\n",
       "      <td>West Bank and Gaza</td>\n",
       "      <td>2016</td>\n",
       "      <td>74.70</td>\n",
       "    </tr>\n",
       "    <tr>\n",
       "      <th>169249</th>\n",
       "      <td>Western Sahara</td>\n",
       "      <td>2016</td>\n",
       "      <td>68.56</td>\n",
       "    </tr>\n",
       "    <tr>\n",
       "      <th>169250</th>\n",
       "      <td>Vietnam</td>\n",
       "      <td>2016</td>\n",
       "      <td>75.60</td>\n",
       "    </tr>\n",
       "    <tr>\n",
       "      <th>169251</th>\n",
       "      <td>Virgin Islands (U.S.)</td>\n",
       "      <td>2016</td>\n",
       "      <td>80.82</td>\n",
       "    </tr>\n",
       "    <tr>\n",
       "      <th>169254</th>\n",
       "      <td>Yemen</td>\n",
       "      <td>2016</td>\n",
       "      <td>64.92</td>\n",
       "    </tr>\n",
       "    <tr>\n",
       "      <th>169256</th>\n",
       "      <td>Zambia</td>\n",
       "      <td>2016</td>\n",
       "      <td>57.10</td>\n",
       "    </tr>\n",
       "    <tr>\n",
       "      <th>169257</th>\n",
       "      <td>Zimbabwe</td>\n",
       "      <td>2016</td>\n",
       "      <td>61.69</td>\n",
       "    </tr>\n",
       "    <tr>\n",
       "      <th>169259</th>\n",
       "      <td>South Sudan</td>\n",
       "      <td>2016</td>\n",
       "      <td>56.10</td>\n",
       "    </tr>\n",
       "  </tbody>\n",
       "</table>\n",
       "<p>43857 rows × 3 columns</p>\n",
       "</div>"
      ],
      "text/plain": [
       "                       country  year  life_expectancy\n",
       "1                  Afghanistan  1800            28.21\n",
       "3                      Albania  1800            35.40\n",
       "4                      Algeria  1800            28.82\n",
       "7                       Angola  1800            26.98\n",
       "9          Antigua and Barbuda  1800            33.54\n",
       "10                   Argentina  1800            33.20\n",
       "11                     Armenia  1800            34.00\n",
       "12                       Aruba  1800            34.42\n",
       "13                   Australia  1800            34.05\n",
       "14                     Austria  1800            34.40\n",
       "15                  Azerbaijan  1800            29.17\n",
       "16                     Bahamas  1800            35.18\n",
       "17                     Bahrain  1800            30.30\n",
       "18                  Bangladesh  1800            25.50\n",
       "19                    Barbados  1800            32.12\n",
       "20                     Belarus  1800            36.20\n",
       "21                     Belgium  1800            40.00\n",
       "22                      Belize  1800            26.50\n",
       "23                       Benin  1800            31.00\n",
       "25                      Bhutan  1800            28.80\n",
       "26                     Bolivia  1800            33.00\n",
       "27      Bosnia and Herzegovina  1800            35.10\n",
       "28                    Botswana  1800            33.60\n",
       "29                      Brazil  1800            32.00\n",
       "31                      Brunei  1800            29.20\n",
       "32                    Bulgaria  1800            35.80\n",
       "33                Burkina Faso  1800            29.20\n",
       "34                     Burundi  1800            31.50\n",
       "35                    Cambodia  1800            35.00\n",
       "36                    Cameroon  1800            28.75\n",
       "...                        ...   ...              ...\n",
       "169219             Switzerland  2016            83.10\n",
       "169220                   Syria  2016            69.21\n",
       "169221                  Taiwan  2016            79.60\n",
       "169222              Tajikistan  2016            72.90\n",
       "169223                Tanzania  2016            64.91\n",
       "169224                Thailand  2016            74.80\n",
       "169225             Timor-Leste  2016            72.50\n",
       "169226                    Togo  2016            61.90\n",
       "169228                   Tonga  2016            71.70\n",
       "169230     Trinidad and Tobago  2016            72.50\n",
       "169231                 Tunisia  2016            77.60\n",
       "169232                  Turkey  2016            79.30\n",
       "169233            Turkmenistan  2016            70.40\n",
       "169236                  Uganda  2016            61.91\n",
       "169237                 Ukraine  2016            71.70\n",
       "169238    United Arab Emirates  2016            75.40\n",
       "169239          United Kingdom  2016            81.10\n",
       "169240           United States  2016            79.10\n",
       "169241                 Uruguay  2016            77.00\n",
       "169243              Uzbekistan  2016            72.10\n",
       "169245                 Vanuatu  2016            65.10\n",
       "169246               Venezuela  2016            74.80\n",
       "169247      West Bank and Gaza  2016            74.70\n",
       "169249          Western Sahara  2016            68.56\n",
       "169250                 Vietnam  2016            75.60\n",
       "169251   Virgin Islands (U.S.)  2016            80.82\n",
       "169254                   Yemen  2016            64.92\n",
       "169256                  Zambia  2016            57.10\n",
       "169257                Zimbabwe  2016            61.69\n",
       "169259             South Sudan  2016            56.10\n",
       "\n",
       "[43857 rows x 3 columns]"
      ]
     },
     "execution_count": 62,
     "metadata": {},
     "output_type": "execute_result"
    }
   ],
   "source": [
    "#drop missing values\n",
    "df_melt = df_melt.dropna(how = \"any\")\n",
    "df_melt"
   ]
  },
  {
   "cell_type": "markdown",
   "metadata": {},
   "source": [
    "# Wrapping up\n"
   ]
  },
  {
   "cell_type": "markdown",
   "metadata": {},
   "source": [
    " Now that youhave a clean and tidy dataset, you can do a bit of visualization and aggregation. In this exercise,\n",
    "you'll begin by creating a histogram of the life_expectancy column. You should not get any values under 0 and you should \n",
    "see something reasonable on the higher end of the life_expectancy age range.\n",
    "\n",
    "Your next task is to investigate how average life expectancy changed over the years. To do this, you need to subset the data\n",
    "by each year, get the life_expectancy column from each subset, and take an average of the values. You can achieve this using \n",
    "the .groupby() method. This .groupby() method is covered in greater depth in Manipulating DataFrames with pandas.\n",
    "\n",
    "Finally, you can save your tidy and summarized DataFrame to a file using the .to_csv() method.\n",
    "\n",
    "Matplotlib and pandas have been pre-imported as plt and pd. Go for it!\n",
    "\n"
   ]
  },
  {
   "cell_type": "code",
   "execution_count": 66,
   "metadata": {},
   "outputs": [
    {
     "data": {
      "text/plain": [
       "<matplotlib.axes._subplots.AxesSubplot at 0x236f365d400>"
      ]
     },
     "execution_count": 66,
     "metadata": {},
     "output_type": "execute_result"
    },
    {
     "data": {
      "image/png": "[encoded data removed]",
      "text/plain": [
       "<matplotlib.figure.Figure at 0x236f3722780>"
      ]
     },
     "metadata": {},
     "output_type": "display_data"
    }
   ],
   "source": [
    "#Add first subplot\n",
    "plt.subplot(2,1,1)"
   ]
  },
  {
   "cell_type": "code",
   "execution_count": 67,
   "metadata": {},
   "outputs": [
    {
     "data": {
      "text/plain": [
       "<matplotlib.axes._subplots.AxesSubplot at 0x236f37229b0>"
      ]
     },
     "execution_count": 67,
     "metadata": {},
     "output_type": "execute_result"
    },
    {
     "data": {
      "image/png": "[encoded data removed]",
      "text/plain": [
       "<matplotlib.figure.Figure at 0x236f366fcc0>"
      ]
     },
     "metadata": {},
     "output_type": "display_data"
    }
   ],
   "source": [
    "#histogram of life_expectancy\n",
    "df_melt.life_expectancy.plot(kind=\"hist\")"
   ]
  },
  {
   "cell_type": "code",
   "execution_count": 68,
   "metadata": {},
   "outputs": [],
   "source": [
    "#group \n",
    "df_melt_agg = df_melt.groupby(\"year\")[\"life_expectancy\"].mean()"
   ]
  },
  {
   "cell_type": "code",
   "execution_count": 69,
   "metadata": {},
   "outputs": [
    {
     "name": "stdout",
     "output_type": "stream",
     "text": [
      "year\n",
      "1800    31.486020\n",
      "1801    31.448905\n",
      "1802    31.463483\n",
      "1803    31.377413\n",
      "1804    31.446318\n",
      "Name: life_expectancy, dtype: float64\n"
     ]
    }
   ],
   "source": [
    "print(df_melt_agg.head())"
   ]
  },
  {
   "cell_type": "code",
   "execution_count": 70,
   "metadata": {},
   "outputs": [
    {
     "name": "stdout",
     "output_type": "stream",
     "text": [
      "year\n",
      "2012    71.663077\n",
      "2013    71.916106\n",
      "2014    72.088125\n",
      "2015    72.321010\n",
      "2016    72.556635\n",
      "Name: life_expectancy, dtype: float64\n"
     ]
    }
   ],
   "source": [
    "print(df_melt_agg.tail())"
   ]
  },
  {
   "cell_type": "code",
   "execution_count": 71,
   "metadata": {},
   "outputs": [
    {
     "data": {
      "text/plain": [
       "<matplotlib.axes._subplots.AxesSubplot at 0x236f3722a20>"
      ]
     },
     "execution_count": 71,
     "metadata": {},
     "output_type": "execute_result"
    },
    {
     "data": {
      "image/png": "[encoded data removed]",
      "text/plain": [
       "<matplotlib.figure.Figure at 0x236f3602d30>"
      ]
     },
     "metadata": {},
     "output_type": "display_data"
    }
   ],
   "source": [
    "#second subplot\n",
    "plt.subplot(2,1,2)"
   ]
  },
  {
   "cell_type": "code",
   "execution_count": 72,
   "metadata": {},
   "outputs": [
    {
     "data": {
      "text/plain": [
       "<matplotlib.axes._subplots.AxesSubplot at 0x236f39e0080>"
      ]
     },
     "execution_count": 72,
     "metadata": {},
     "output_type": "execute_result"
    },
    {
     "data": {
      "image/png": "[encoded data removed]",
      "text/plain": [
       "<matplotlib.figure.Figure at 0x236f38e7470>"
      ]
     },
     "metadata": {},
     "output_type": "display_data"
    }
   ],
   "source": [
    "df_melt_agg.plot()"
   ]
  },
  {
   "cell_type": "code",
   "execution_count": 73,
   "metadata": {},
   "outputs": [
    {
     "data": {
      "text/plain": [
       "Text(0.5,0,'year')"
      ]
     },
     "execution_count": 73,
     "metadata": {},
     "output_type": "execute_result"
    },
    {
     "data": {
      "image/png": "[encoded data removed]",
      "text/plain": [
       "<matplotlib.figure.Figure at 0x236f3938ba8>"
      ]
     },
     "metadata": {},
     "output_type": "display_data"
    }
   ],
   "source": [
    "plt.title(\"life expectancy over the years\")\n",
    "plt.ylabel(\"Life Ecpectancy\")\n",
    "plt.xlabel(\"year\")"
   ]
  },
  {
   "cell_type": "code",
   "execution_count": 75,
   "metadata": {},
   "outputs": [
    {
     "data": {
      "text/plain": [
       "<matplotlib.figure.Figure at 0x236f38b7f98>"
      ]
     },
     "metadata": {},
     "output_type": "display_data"
    }
   ],
   "source": [
    "plt.tight_layout()\n",
    "plt.show()"
   ]
  },
  {
   "cell_type": "code",
   "execution_count": 76,
   "metadata": {},
   "outputs": [],
   "source": [
    "#save both dataframe to csv files\n",
    "df_melt.to_csv(\"gapminder_melt.csv\")\n",
    "df_melt_agg.to_csv(\"gapminder_agg.csv\")"
   ]
  },
  {
   "cell_type": "code",
   "execution_count": null,
   "metadata": {},
   "outputs": [],
   "source": []
  }
 ],
 "metadata": {
  "kernelspec": {
   "display_name": "Python 3",
   "language": "python",
   "name": "python3"
  },
  "language_info": {
   "codemirror_mode": {
    "name": "ipython",
    "version": 3
   },
   "file_extension": ".py",
   "mimetype": "text/x-python",
   "name": "python",
   "nbconvert_exporter": "python",
   "pygments_lexer": "ipython3",
   "version": "3.6.3"
  }
 },
 "nbformat": 4,
 "nbformat_minor": 2
}
